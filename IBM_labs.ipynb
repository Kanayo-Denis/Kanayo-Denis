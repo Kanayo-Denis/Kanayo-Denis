{
  "nbformat": 4,
  "nbformat_minor": 0,
  "metadata": {
    "colab": {
      "provenance": [],
      "toc_visible": true,
      "authorship_tag": "ABX9TyNUsCPQNpqGwmvD98NrdX4H",
      "include_colab_link": true
    },
    "kernelspec": {
      "name": "python3",
      "display_name": "Python 3"
    },
    "language_info": {
      "name": "python"
    }
  },
  "cells": [
    {
      "cell_type": "markdown",
      "metadata": {
        "id": "view-in-github",
        "colab_type": "text"
      },
      "source": [
        "<a href=\"https://colab.research.google.com/github/Kanayo-Denis/Kanayo-Denis/blob/main/IBM_labs.ipynb\" target=\"_parent\"><img src=\"https://colab.research.google.com/assets/colab-badge.svg\" alt=\"Open In Colab\"/></a>"
      ]
    },
    {
      "cell_type": "code",
      "execution_count": null,
      "metadata": {
        "id": "ZMFTKOIWMwWi"
      },
      "outputs": [],
      "source": [
        "import glob                         # this module helps in selecting files \n",
        "import pandas as pd                 # this module helps in processing CSV files\n",
        "import xml.etree.ElementTree as ET  # this module helps in processing XML files.\n",
        "from datetime import datetime"
      ]
    },
    {
      "cell_type": "code",
      "source": [
        "!wget https://cf-courses-data.s3.us.cloud-object-storage.appdomain.cloud/IBMDeveloperSkillsNetwork-PY0221EN-SkillsNetwork/labs/module%206/Lab%20-%20Extract%20Transform%20Load/data/source.zip"
      ],
      "metadata": {
        "colab": {
          "base_uri": "https://localhost:8080/"
        },
        "id": "YnBx-DeKj8sC",
        "outputId": "e7014091-e873-44de-fb5d-49c0c77071ba"
      },
      "execution_count": null,
      "outputs": [
        {
          "output_type": "stream",
          "name": "stdout",
          "text": [
            "--2022-07-05 22:09:00--  https://cf-courses-data.s3.us.cloud-object-storage.appdomain.cloud/IBMDeveloperSkillsNetwork-PY0221EN-SkillsNetwork/labs/module%206/Lab%20-%20Extract%20Transform%20Load/data/source.zip\n",
            "Resolving cf-courses-data.s3.us.cloud-object-storage.appdomain.cloud (cf-courses-data.s3.us.cloud-object-storage.appdomain.cloud)... 169.45.118.108\n",
            "Connecting to cf-courses-data.s3.us.cloud-object-storage.appdomain.cloud (cf-courses-data.s3.us.cloud-object-storage.appdomain.cloud)|169.45.118.108|:443... connected.\n",
            "HTTP request sent, awaiting response... 200 OK\n",
            "Length: 2707 (2.6K) [application/zip]\n",
            "Saving to: ‘source.zip.1’\n",
            "\n",
            "source.zip.1        100%[===================>]   2.64K  --.-KB/s    in 0s      \n",
            "\n",
            "2022-07-05 22:09:01 (395 MB/s) - ‘source.zip.1’ saved [2707/2707]\n",
            "\n"
          ]
        }
      ]
    },
    {
      "cell_type": "code",
      "source": [
        "!unzip source.zip"
      ],
      "metadata": {
        "colab": {
          "base_uri": "https://localhost:8080/"
        },
        "id": "hW-huX6pkAPP",
        "outputId": "32654302-cc9c-4e4d-ba8d-6cd12b65278a"
      },
      "execution_count": null,
      "outputs": [
        {
          "metadata": {
            "tags": null
          },
          "name": "stdout",
          "output_type": "stream",
          "text": [
            "Archive:  source.zip\n",
            "replace source3.json? [y]es, [n]o, [A]ll, [N]one, [r]ename: "
          ]
        }
      ]
    },
    {
      "cell_type": "code",
      "source": [
        "tmpfile    = \"temp.tmp\"               # file used to store all extracted data\n",
        "logfile    = \"logfile.txt\"            # all event logs will be stored in this file\n",
        "targetfile = \"transformed_data.csv\"   # file where transformed data is stored"
      ],
      "metadata": {
        "id": "yDf9sqWgkKzt"
      },
      "execution_count": null,
      "outputs": []
    },
    {
      "cell_type": "code",
      "source": [
        "def extract_from_csv(file_to_process):\n",
        "    dataframe = pd.read_csv(file_to_process)\n",
        "    return dataframe"
      ],
      "metadata": {
        "id": "Gi74_AydkOrx"
      },
      "execution_count": null,
      "outputs": []
    },
    {
      "cell_type": "code",
      "source": [
        "def extract_from_json(file_to_process):\n",
        "    dataframe = pd.read_json(file_to_process,lines=True)\n",
        "    return dataframe"
      ],
      "metadata": {
        "id": "OWPY_TJXkRB2"
      },
      "execution_count": null,
      "outputs": []
    },
    {
      "cell_type": "code",
      "source": [
        "def extract_from_xml(file_to_process):\n",
        "    dataframe = pd.DataFrame(columns=[\"name\", \"height\", \"weight\"])\n",
        "    tree = ET.parse(file_to_process)\n",
        "    root = tree.getroot()\n",
        "    for person in root:\n",
        "        name = person.find(\"name\").text\n",
        "        height = float(person.find(\"height\").text)\n",
        "        weight = float(person.find(\"weight\").text)\n",
        "        dataframe = dataframe.append({\"name\":name, \"height\":height, \"weight\":weight}, ignore_index=True)\n",
        "    return dataframe"
      ],
      "metadata": {
        "id": "RPOqYORckbdi"
      },
      "execution_count": null,
      "outputs": []
    },
    {
      "cell_type": "code",
      "source": [
        "def extract():\n",
        "    extracted_data = pd.DataFrame(columns=['name','height','weight']) # create an empty data frame to hold extracted data\n",
        "    \n",
        "    #process all csv files\n",
        "    for csvfile in glob.glob(\"*.csv\"):\n",
        "        extracted_data = extracted_data.append(extract_from_csv(csvfile), ignore_index=True)\n",
        "        \n",
        "    #process all json files\n",
        "    for jsonfile in glob.glob(\"*.json\"):\n",
        "        extracted_data = extracted_data.append(extract_from_json(jsonfile), ignore_index=True)\n",
        "    \n",
        "    #process all xml files\n",
        "    for xmlfile in glob.glob(\"*.xml\"):\n",
        "        extracted_data = extracted_data.append(extract_from_xml(xmlfile), ignore_index=True)\n",
        "        \n",
        "    return extracted_data"
      ],
      "metadata": {
        "id": "n9nUO692kdXL"
      },
      "execution_count": null,
      "outputs": []
    },
    {
      "cell_type": "markdown",
      "source": [
        "# Transform"
      ],
      "metadata": {
        "id": "HgS1lpSYkx-V"
      }
    },
    {
      "cell_type": "code",
      "source": [
        "def transform(data):\n",
        "        #Convert height which is in inches to millimeter\n",
        "        #Convert the datatype of the column into float\n",
        "        #data.height = data.height.astype(float)\n",
        "        #Convert inches to meters and round off to two decimals(one inch is 0.0254 meters)\n",
        "        data['height'] = round(data.height * 0.0254,2)\n",
        "        \n",
        "        #Convert weight which is in pounds to kilograms\n",
        "        #Convert the datatype of the column into float\n",
        "        #data.weight = data.weight.astype(float)\n",
        "        #Convert pounds to kilograms and round off to two decimals(one pound is 0.45359237 kilograms)\n",
        "        data['weight'] = round(data.weight * 0.45359237,2)\n",
        "        return data"
      ],
      "metadata": {
        "id": "2YiQGLU4k1uR"
      },
      "execution_count": null,
      "outputs": []
    },
    {
      "cell_type": "markdown",
      "source": [
        "#Load"
      ],
      "metadata": {
        "id": "OVqn0xivlAOb"
      }
    },
    {
      "cell_type": "code",
      "source": [
        "def load(targetfile,data_to_load):\n",
        "    data_to_load.to_csv(targetfile)  "
      ],
      "metadata": {
        "id": "MHoAePSmlO7u"
      },
      "execution_count": null,
      "outputs": []
    },
    {
      "cell_type": "markdown",
      "source": [
        "#Logging"
      ],
      "metadata": {
        "id": "OUJHSX-4lSfu"
      }
    },
    {
      "cell_type": "code",
      "source": [
        "def log(message):\n",
        "    timestamp_format = '%Y-%h-%d-%H:%M:%S' # Year-Monthname-Day-Hour-Minute-Second\n",
        "    now = datetime.now() # get current timestamp\n",
        "    timestamp = now.strftime(timestamp_format)\n",
        "    with open(\"logfile.txt\",\"a\") as f:\n",
        "        f.write(timestamp + ',' + message + '\\n')"
      ],
      "metadata": {
        "id": "hIXnw8dIlZux"
      },
      "execution_count": null,
      "outputs": []
    },
    {
      "cell_type": "markdown",
      "source": [
        "# Running ETL Process"
      ],
      "metadata": {
        "id": "THTuBfYJlbAi"
      }
    },
    {
      "cell_type": "code",
      "source": [
        "log(\"ETL Job Started\")"
      ],
      "metadata": {
        "id": "XoEq1NQ0lf5p"
      },
      "execution_count": null,
      "outputs": []
    },
    {
      "cell_type": "code",
      "source": [
        "log(\"Extract phase Started\")\n",
        "extracted_data = extract()\n",
        "log(\"Extract phase Ended\")\n",
        "extracted_data"
      ],
      "metadata": {
        "id": "H4bZOkvXlibQ"
      },
      "execution_count": null,
      "outputs": []
    },
    {
      "cell_type": "code",
      "source": [
        "log(\"Transform phase Started\")\n",
        "transformed_data = transform(extracted_data)\n",
        "log(\"Transform phase Ended\")\n",
        "transformed_data "
      ],
      "metadata": {
        "id": "m3dRZr1kli1F"
      },
      "execution_count": null,
      "outputs": []
    },
    {
      "cell_type": "code",
      "source": [
        "log(\"Load phase Started\")\n",
        "load(targetfile,transformed_data)\n",
        "log(\"Load phase Ended\")"
      ],
      "metadata": {
        "id": "L0ex1i2sljLe"
      },
      "execution_count": null,
      "outputs": []
    },
    {
      "cell_type": "code",
      "source": [
        "log(\"ETL Job Ended\")"
      ],
      "metadata": {
        "id": "UTcaeqGZljRw"
      },
      "execution_count": null,
      "outputs": []
    },
    {
      "cell_type": "code",
      "source": [
        "extracted_data"
      ],
      "metadata": {
        "id": "FDut07_BX-1b"
      },
      "execution_count": null,
      "outputs": []
    },
    {
      "cell_type": "code",
      "source": [
        "transformed_data.name"
      ],
      "metadata": {
        "id": "N9mOnEawXX5Z"
      },
      "execution_count": null,
      "outputs": []
    },
    {
      "cell_type": "markdown",
      "source": [
        "# Exercises\n"
      ],
      "metadata": {
        "id": "KBzFoayKljYD"
      }
    },
    {
      "cell_type": "markdown",
      "source": [
        "# Write Files"
      ],
      "metadata": {
        "id": "1Tox7tmwZBJN"
      }
    },
    {
      "cell_type": "code",
      "source": [
        "# Uncomment these if working locally, else let the following code cell run.\n",
        "\n",
        "import urllib.request\n",
        "url = 'https://cf-courses-data.s3.us.cloud-object-storage.appdomain.cloud/IBMDeveloperSkillsNetwork-PY0101EN-SkillsNetwork/labs/Module%204/data/example1.txt'\n",
        "filename = 'Example1.txt'\n",
        "urllib.request.urlretrieve(url, filename)\n",
        "\n",
        "## Download Example file\n",
        "!wget -O /resources/data/Example1.txt https://cf-courses-data.s3.us.cloud-object-storage.appdomain.cloud/IBMDeveloperSkillsNetwork-PY0101EN-SkillsNetwork/labs/Module%204/data/example1.txt"
      ],
      "metadata": {
        "id": "e2Z9tjzNZEF5"
      },
      "execution_count": null,
      "outputs": []
    },
    {
      "cell_type": "code",
      "source": [
        "from pyodide.http import pyfetch\n",
        "import pandas as pd\n",
        "\n",
        "filename = \"https://cf-courses-data.s3.us.cloud-object-storage.appdomain.cloud/IBMDeveloperSkillsNetwork-PY0101EN-SkillsNetwork/labs/Module%204/data/example1.txt\"\n",
        "\n",
        "async def download(url, filename):\n",
        "    response = await pyfetch(url)\n",
        "    if response.status == 200:\n",
        "        with open(filename, \"wb\") as f:\n",
        "            f.write(await response.bytes())\n",
        "\n",
        "await download(filename, \"Example1.txt\")"
      ],
      "metadata": {
        "id": "ITjAg4RhfF2Z"
      },
      "execution_count": null,
      "outputs": []
    },
    {
      "cell_type": "code",
      "source": [
        "# Read the Example1.txt\n",
        "example1 = \"Example1.txt\"\n",
        "file1 = open(example1, \"r\")"
      ],
      "metadata": {
        "id": "yMOEFtPDu1q_"
      },
      "execution_count": null,
      "outputs": []
    },
    {
      "cell_type": "code",
      "source": [
        "# Print the path of file\n",
        "\n",
        "file1.name"
      ],
      "metadata": {
        "id": "Pn_O6P9YvKj3"
      },
      "execution_count": null,
      "outputs": []
    },
    {
      "cell_type": "code",
      "source": [
        "# Print the mode of file, either 'r' or 'w'\n",
        "\n",
        "file1.mode"
      ],
      "metadata": {
        "id": "YFzeW3BjvQCB"
      },
      "execution_count": null,
      "outputs": []
    },
    {
      "cell_type": "code",
      "source": [
        "# Read the file\n",
        "\n",
        "FileContent = file1.read()\n",
        "FileContent"
      ],
      "metadata": {
        "id": "r1hm7Pg6vUjy"
      },
      "execution_count": null,
      "outputs": []
    },
    {
      "cell_type": "code",
      "source": [
        "# Print the file with '\\n' as a new line\n",
        "\n",
        "print(FileContent)"
      ],
      "metadata": {
        "id": "vbKBO-SxvZV8"
      },
      "execution_count": null,
      "outputs": []
    },
    {
      "cell_type": "code",
      "source": [
        "# Type of file content\n",
        "\n",
        "type(FileContent)"
      ],
      "metadata": {
        "id": "81QPNXKrvfJS"
      },
      "execution_count": null,
      "outputs": []
    },
    {
      "cell_type": "code",
      "source": [
        "# Close file after finish\n",
        "\n",
        "file1.close()"
      ],
      "metadata": {
        "id": "NEiBtjPvviU4"
      },
      "execution_count": null,
      "outputs": []
    },
    {
      "cell_type": "markdown",
      "source": [
        "#A Better Way to Open a File"
      ],
      "metadata": {
        "id": "s9nUMy4hvi1x"
      }
    },
    {
      "cell_type": "code",
      "source": [
        "# Open file using with\n",
        "\n",
        "with open(example1, \"r\") as file1:\n",
        "    FileContent = file1.read()\n",
        "    print(FileContent,end='')"
      ],
      "metadata": {
        "id": "qi4mPwbBvi4v"
      },
      "execution_count": null,
      "outputs": []
    },
    {
      "cell_type": "code",
      "source": [
        "# Verify if the file is closed\n",
        "\n",
        "file1.closed"
      ],
      "metadata": {
        "id": "3RstL7qbv1iu"
      },
      "execution_count": null,
      "outputs": []
    },
    {
      "cell_type": "code",
      "source": [
        "# See the content of file\n",
        "\n",
        "print(FileContent)"
      ],
      "metadata": {
        "id": "GJpHCw-Hv1gO"
      },
      "execution_count": null,
      "outputs": []
    },
    {
      "cell_type": "markdown",
      "source": [
        "# Specific Reading"
      ],
      "metadata": {
        "id": "VVmasZ_lv1ce"
      }
    },
    {
      "cell_type": "code",
      "source": [
        "# Read first four characters\n",
        "\n",
        "with open(example1, \"r\") as file1:\n",
        "    print(file1.read(4))"
      ],
      "metadata": {
        "id": "eOyb7Dvrv1Y1"
      },
      "execution_count": null,
      "outputs": []
    },
    {
      "cell_type": "code",
      "source": [],
      "metadata": {
        "id": "4-o12XdUwo23"
      },
      "execution_count": null,
      "outputs": []
    },
    {
      "cell_type": "code",
      "source": [
        "# Read certain amount of characters\n",
        "\n",
        "with open(example1, \"r\") as file1:\n",
        "    print(file1.read(4))\n",
        "    print(file1.read(4))\n",
        "    print(file1.read(7))\n",
        "    print(file1.read(15))"
      ],
      "metadata": {
        "id": "7tuxkywKwoy8"
      },
      "execution_count": null,
      "outputs": []
    },
    {
      "cell_type": "code",
      "source": [
        "# Read certain amount of characters\n",
        "\n",
        "with open(example1, \"r\") as file1:\n",
        "    print(file1.read(16))\n",
        "    print(file1.read(5))\n",
        "    print(file1.read(9))"
      ],
      "metadata": {
        "id": "YUKqgT2Jwov4"
      },
      "execution_count": null,
      "outputs": []
    },
    {
      "cell_type": "markdown",
      "source": [
        "# Readline\n"
      ],
      "metadata": {
        "id": "2feue4mYw352"
      }
    },
    {
      "cell_type": "code",
      "source": [
        "\n",
        "with open(example1, \"r\") as file1:\n",
        "    print(\"first line: \" + file1.readline())"
      ],
      "metadata": {
        "id": "gcEptJT5w32Y"
      },
      "execution_count": null,
      "outputs": []
    },
    {
      "cell_type": "code",
      "source": [
        "#We can also pass an argument to  readline()  to specify the number of charecters we want to read.\n",
        "# However, unlike  read(),  readline() can only read one line at most."
      ],
      "metadata": {
        "id": "0Dw2TtQdw3x2"
      },
      "execution_count": null,
      "outputs": []
    },
    {
      "cell_type": "code",
      "source": [
        "with open(example1, \"r\") as file1:\n",
        "    print(file1.readline(20)) # does not read past the end of line\n",
        "    print(file1.read(20)) # Returns the next 20 chars\n"
      ],
      "metadata": {
        "id": "M3Zm3wDuw3uW"
      },
      "execution_count": null,
      "outputs": []
    },
    {
      "cell_type": "code",
      "source": [
        "# Iterate through the lines\n",
        "\n",
        "with open(example1,\"r\") as file1:\n",
        "        i = 0;\n",
        "        for line in file1:\n",
        "            print(\"Iteration\", str(i), \": \", line)\n",
        "            i = i + 1"
      ],
      "metadata": {
        "id": "BhTdARmiwoqT"
      },
      "execution_count": null,
      "outputs": []
    },
    {
      "cell_type": "code",
      "source": [
        "j=\"My name\",'Kanayo'\n",
        "for i in j:\n",
        "  print(i)"
      ],
      "metadata": {
        "id": "I9vOk0PYwonS"
      },
      "execution_count": null,
      "outputs": []
    },
    {
      "cell_type": "code",
      "source": [
        "# Read all lines and save as a list\n",
        "\n",
        "with open(example1, \"r\") as file1:\n",
        "    FileasList = file1.readlines()"
      ],
      "metadata": {
        "id": "-3u4WgCx1u5t"
      },
      "execution_count": null,
      "outputs": []
    },
    {
      "cell_type": "code",
      "source": [
        "# Print the first line\n",
        "\n",
        "FileasList[0]"
      ],
      "metadata": {
        "id": "acSEggMQ1wsw"
      },
      "execution_count": null,
      "outputs": []
    },
    {
      "cell_type": "code",
      "source": [
        "# Print the third line\n",
        "\n",
        "FileasList[2]"
      ],
      "metadata": {
        "id": "3oLMI4B21wdZ"
      },
      "execution_count": null,
      "outputs": []
    },
    {
      "cell_type": "markdown",
      "source": [
        "#Write and Save Files in Python"
      ],
      "metadata": {
        "id": "Ny5hEN4K1wZi"
      }
    },
    {
      "cell_type": "code",
      "source": [],
      "metadata": {
        "id": "XlZb3I6u1wWT"
      },
      "execution_count": null,
      "outputs": []
    },
    {
      "cell_type": "markdown",
      "source": [
        "#*WebScrapping*"
      ],
      "metadata": {
        "id": "1q_AO7F63v3M"
      }
    },
    {
      "cell_type": "code",
      "source": [
        "!mamba install bs4==4.10.0 -y\n",
        "!pip install lxml==4.6.4\n",
        "!mamba install html5lib==1.1 -y\n",
        "# !pip install requests==2.26.0"
      ],
      "metadata": {
        "id": "e32u2DE035Po",
        "colab": {
          "base_uri": "https://localhost:8080/"
        },
        "outputId": "019e804e-7f3f-4a0e-f75c-ac974793bbe1"
      },
      "execution_count": null,
      "outputs": [
        {
          "output_type": "stream",
          "name": "stdout",
          "text": [
            "/bin/bash: mamba: command not found\n",
            "Looking in indexes: https://pypi.org/simple, https://us-python.pkg.dev/colab-wheels/public/simple/\n",
            "Collecting lxml==4.6.4\n",
            "  Downloading lxml-4.6.4-cp37-cp37m-manylinux_2_17_x86_64.manylinux2014_x86_64.manylinux_2_24_x86_64.whl (6.3 MB)\n",
            "\u001b[K     |████████████████████████████████| 6.3 MB 7.8 MB/s \n",
            "\u001b[?25hInstalling collected packages: lxml\n",
            "  Attempting uninstall: lxml\n",
            "    Found existing installation: lxml 4.2.6\n",
            "    Uninstalling lxml-4.2.6:\n",
            "      Successfully uninstalled lxml-4.2.6\n",
            "Successfully installed lxml-4.6.4\n",
            "/bin/bash: mamba: command not found\n"
          ]
        }
      ]
    },
    {
      "cell_type": "code",
      "source": [
        "#Import the required modules and functions\n",
        "from bs4 import BeautifulSoup # this module helps in web scrapping.\n",
        "import requests  # this module helps us to download a web page"
      ],
      "metadata": {
        "id": "aeGo9cEa4HIb"
      },
      "execution_count": null,
      "outputs": []
    },
    {
      "cell_type": "code",
      "source": [
        "#Beautiful Soup is a Python library for pulling data out of HTML and XML files, \n",
        "#we will focus on HTML files. \n",
        "#This is accomplished by representing the HTML as a set of objects with methods used to parse the HTML. \n",
        "#We can navigate the HTML as a tree and/or filter out what we are looking for.\n",
        "\n",
        "#Consider the following HTML:"
      ],
      "metadata": {
        "id": "csNC1SWE4U69"
      },
      "execution_count": null,
      "outputs": []
    },
    {
      "cell_type": "code",
      "source": [
        "%%html\n",
        "<!DOCTYPE html>\n",
        "<html>\n",
        "<head>\n",
        "<title>Page Title</title>\n",
        "</head>\n",
        "<body>\n",
        "<h3><b id='boldest'>Lebron James</b></h3>\n",
        "<p> Salary: $ 92,000,000 </p>\n",
        "<h3> Stephen Curry</h3>\n",
        "<p> Salary: $85,000, 000 </p>\n",
        "<h3> Kevin Durant </h3>\n",
        "<p> Salary: $73,200, 000</p>\n",
        "</body>\n",
        "</html>"
      ],
      "metadata": {
        "id": "QmX4ZB174U4b"
      },
      "execution_count": null,
      "outputs": []
    },
    {
      "cell_type": "code",
      "source": [
        "# We can store it as a string in the variable HTML:\n",
        "html=\"<!DOCTYPE html><html><head><title>Page Title</title></head><body><h3><b id='boldest'>Lebron James</b></h3><p> Salary: $ 92,000,000 </p><h3> Stephen Curry</h3><p> Salary: $85,000, 000 </p><h3> Kevin Durant </h3><p> Salary: $73,200, 000</p></body></html>\""
      ],
      "metadata": {
        "id": "0BhFTT6m4Uz4"
      },
      "execution_count": null,
      "outputs": []
    },
    {
      "cell_type": "code",
      "source": [
        "#To parse a document, pass it into the BeautifulSoup constructor, the BeautifulSoup object, \n",
        "#which represents the document as a nested data structure:\n",
        "\n",
        "soup = BeautifulSoup(html, \"html.parser\")"
      ],
      "metadata": {
        "id": "q0FCT5vQ4UxB"
      },
      "execution_count": null,
      "outputs": []
    },
    {
      "cell_type": "markdown",
      "source": [
        "First, the document is converted to Unicode, (similar to ASCII),  and HTML entities are converted to Unicode characters. Beautiful Soup transforms a complex HTML document into a complex tree of Python objects. The <code>BeautifulSoup</code> object can create other types of objects. In this lab, we will cover <code>BeautifulSoup</code> and <code>Tag</code> objects that for the purposes of this lab are identical, and <code>NavigableString</code> objects.\n"
      ],
      "metadata": {
        "id": "pX1bzTSB5DKB"
      }
    },
    {
      "cell_type": "code",
      "source": [
        "# We can use the method prettify() to display the HTML in the nested structure:\n",
        "print(soup.prettify())"
      ],
      "metadata": {
        "id": "HvmXy7bN5P0N"
      },
      "execution_count": null,
      "outputs": []
    },
    {
      "cell_type": "markdown",
      "source": [
        "Let's say we want the  title of the page and the name of the top paid player we can use the <code>Tag</code>. The <code>Tag</code> object corresponds to an HTML tag in the original document, for example, the tag title.\n"
      ],
      "metadata": {
        "id": "kH54SXPQ71PQ"
      }
    },
    {
      "cell_type": "code",
      "source": [
        "tag_object=soup.title\n",
        "print(\"tag object:\",tag_object)"
      ],
      "metadata": {
        "id": "7EewhQTb5aND"
      },
      "execution_count": null,
      "outputs": []
    },
    {
      "cell_type": "code",
      "source": [
        "#we can see the tag type\n",
        "\n",
        "print(\"tag object type:\",type(tag_object))"
      ],
      "metadata": {
        "id": "CJi1d_cY79yf"
      },
      "execution_count": null,
      "outputs": []
    },
    {
      "cell_type": "markdown",
      "source": [
        "If there is more than one <code>Tag</code>  with the same name, the first element with that <code>Tag</code> name is called, this corresponds to the most paid player:\n"
      ],
      "metadata": {
        "id": "SVqEWddI7-CQ"
      }
    },
    {
      "cell_type": "code",
      "source": [
        "tag_object=soup.h3\n",
        "tag_object"
      ],
      "metadata": {
        "id": "IWd5MXyM7-Mi"
      },
      "execution_count": null,
      "outputs": []
    },
    {
      "cell_type": "code",
      "source": [
        "\"wikitable sortable mw-collapsible jquery-tablesorter mw-made-collapsible\""
      ],
      "metadata": {
        "id": "IwNzSDn37-WM"
      },
      "execution_count": null,
      "outputs": []
    },
    {
      "cell_type": "code",
      "source": [],
      "metadata": {
        "id": "recAZPvN7-gd"
      },
      "execution_count": null,
      "outputs": []
    }
  ]
}